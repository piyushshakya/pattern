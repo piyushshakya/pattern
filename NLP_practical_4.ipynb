{
  "nbformat": 4,
  "nbformat_minor": 0,
  "metadata": {
    "colab": {
      "provenance": []
    },
    "kernelspec": {
      "name": "python3",
      "display_name": "Python 3"
    },
    "language_info": {
      "name": "python"
    }
  },
  "cells": [
    {
      "cell_type": "code",
      "execution_count": null,
      "metadata": {
        "colab": {
          "base_uri": "https://localhost:8080/"
        },
        "id": "wnLOQfMpPUFC",
        "outputId": "b3590bc1-fb25-455d-88cb-7993024148bf"
      },
      "outputs": [
        {
          "output_type": "stream",
          "name": "stderr",
          "text": [
            "[nltk_data] Downloading package stopwords to /root/nltk_data...\n",
            "[nltk_data]   Unzipping corpora/stopwords.zip.\n"
          ]
        }
      ],
      "source": [
        "import re\n",
        "import string\n",
        "\n",
        "import nltk\n",
        "from nltk.corpus import stopwords\n",
        "from nltk.stem import PorterStemmer\n",
        "from nltk.tokenize import TweetTokenizer\n",
        "import pandas as pd\n",
        "import numpy as np\n",
        "nltk.download('stopwords')\n",
        "\n",
        "def process_tweet(tweet):\n",
        "    stemmer = PorterStemmer()\n",
        "    stopwords_english = stopwords.words('english')\n",
        "    tweet = re.sub(r'\\$\\w*', '', tweet)\n",
        "    tweet = re.sub(r'^RT[\\s]+', '', tweet)\n",
        "    tweet = re.sub(r'https?:\\/\\/.*[\\r\\n]*', '', tweet)\n",
        "    tweet = re.sub(r'#', '', tweet)\n",
        "    tokenizer = TweetTokenizer(preserve_case=False, strip_handles=True,reduce_len=True)\n",
        "    tweet_tokens = tokenizer.tokenize(tweet)\n",
        "\n",
        "    tweets_clean = []\n",
        "    for word in tweet_tokens:\n",
        "        if (word not in stopwords_english and word not in string.punctuation):\n",
        "            stem_word = stemmer.stem(word)\n",
        "            tweets_clean.append(stem_word)\n",
        "    return tweets_clean\n",
        "\n",
        "def build_freqs(tweets, ys):\n",
        "    yslist = np.squeeze(ys).tolist()\n",
        "    freqs = {}\n",
        "    for y, tweet in zip(yslist, tweets):\n",
        "        for word in process_tweet(tweet):\n",
        "            pair = (word, y)\n",
        "            freqs[pair] = freqs.get(pair, 0) + 1  \n",
        "    return freqs"
      ]
    },
    {
      "cell_type": "code",
      "source": [
        "process_tweet('hello, ')"
      ],
      "metadata": {
        "colab": {
          "base_uri": "https://localhost:8080/"
        },
        "id": "GT4Ikj1qPbJS",
        "outputId": "b7e4f3b8-1599-4e29-a4ef-b87f184d2a0e"
      },
      "execution_count": null,
      "outputs": [
        {
          "output_type": "execute_result",
          "data": {
            "text/plain": [
              "['hello', 'buddi']"
            ]
          },
          "metadata": {},
          "execution_count": 2
        }
      ]
    },
    {
      "cell_type": "code",
      "source": [
        "data = ['I love the Movie','I hated the movie','A great movie, a good movie','Poor Acting','Great Acting, a good movie']\n",
        "label = [1,0,1,0,1]"
      ],
      "metadata": {
        "id": "_8E9qTF2Phgq"
      },
      "execution_count": null,
      "outputs": []
    },
    {
      "cell_type": "markdown",
      "source": [
        "# Training Data and finding solution"
      ],
      "metadata": {
        "id": "2-fUnWhEcdiw"
      }
    },
    {
      "cell_type": "code",
      "source": [
        "freq = build_freqs(data,label)\n",
        "freq"
      ],
      "metadata": {
        "colab": {
          "base_uri": "https://localhost:8080/"
        },
        "id": "qnMMGWJiQKKm",
        "outputId": "51027b7a-2409-403e-f917-8f2a745c8475"
      },
      "execution_count": null,
      "outputs": [
        {
          "output_type": "execute_result",
          "data": {
            "text/plain": [
              "{('love', 1): 1,\n",
              " ('movi', 1): 4,\n",
              " ('hate', 0): 1,\n",
              " ('movi', 0): 1,\n",
              " ('great', 1): 2,\n",
              " ('good', 1): 2,\n",
              " ('poor', 0): 1,\n",
              " ('act', 0): 1,\n",
              " ('act', 1): 1}"
            ]
          },
          "metadata": {},
          "execution_count": 4
        }
      ]
    },
    {
      "cell_type": "code",
      "source": [
        "vocab = {}\n",
        "n_pos = 0\n",
        "n_neg = 0\n",
        "count_pos = 0\n",
        "count_neg = 0\n",
        "for key, val in freq:\n",
        "  vocab[key] = 1\n",
        "  if val == 0:\n",
        "    n_neg += freq[(key,val)]\n",
        "  else:\n",
        "    n_pos += freq[(key,val)]\n",
        "\n",
        "for x in label:\n",
        "  if x == 0:\n",
        "    count_neg += 1\n",
        "  else:\n",
        "    count_pos += 1\n",
        "\n",
        "vocabulary = len(vocab)\n",
        "n_pos, n_neg, count_pos, count_neg, vocabulary"
      ],
      "metadata": {
        "colab": {
          "base_uri": "https://localhost:8080/"
        },
        "id": "HM8dmzXZQQtG",
        "outputId": "07580efc-ac38-4f68-bf58-b3b0cbdd292b"
      },
      "execution_count": null,
      "outputs": [
        {
          "output_type": "execute_result",
          "data": {
            "text/plain": [
              "(10, 4, 3, 2, 7)"
            ]
          },
          "metadata": {},
          "execution_count": 5
        }
      ]
    },
    {
      "cell_type": "code",
      "source": [
        "Test = 'I love the movie'"
      ],
      "metadata": {
        "id": "3np6DY2IQZZF"
      },
      "execution_count": null,
      "outputs": []
    },
    {
      "cell_type": "code",
      "source": [
        "Prob_pos = count_pos/len(label)\n",
        "Prob_neg = count_neg/len(label)\n",
        "\n",
        "testing = process_tweet(Test)\n",
        "testing\n",
        "\n",
        "for x in testing:\n",
        "  Prob_pos = Prob_pos*((1+freq.get((x,1),0))/(n_pos+vocabulary))\n",
        "  Prob_neg = Prob_neg*((1+freq.get((x,0),0))/(n_neg+vocabulary))\n",
        "  print(Prob_pos,Prob_neg)\n",
        "\n",
        "print(\"\")\n",
        "if Prob_pos > Prob_neg:\n",
        "  print(f'\"{Test}\" :is a Positive sentance')\n",
        "else:\n",
        "  print(f'\"{Test}\" :is a negative sentance')"
      ],
      "metadata": {
        "colab": {
          "base_uri": "https://localhost:8080/"
        },
        "id": "BqLkEY52RsvG",
        "outputId": "bf4582a7-2da3-495f-a630-7e3ba6f36e7b"
      },
      "execution_count": null,
      "outputs": [
        {
          "output_type": "stream",
          "name": "stdout",
          "text": [
            "0.07058823529411765 0.03636363636363637\n",
            "0.020761245674740483 0.006611570247933885\n",
            "\n",
            "\"I love the movie\" :is a Positive sentance\n"
          ]
        }
      ]
    },
    {
      "cell_type": "code",
      "source": [],
      "metadata": {
        "id": "oQxFj4yMR16-"
      },
      "execution_count": null,
      "outputs": []
    },
    {
      "cell_type": "markdown",
      "source": [
        "# Tweet Preprocessing"
      ],
      "metadata": {
        "id": "NFXmil3nyeJc"
      }
    },
    {
      "cell_type": "code",
      "source": [
        "import nltk\n",
        "from nltk.corpus import twitter_samples"
      ],
      "metadata": {
        "id": "G2ieN86KyOcU"
      },
      "execution_count": null,
      "outputs": []
    },
    {
      "cell_type": "code",
      "source": [
        "nltk.download('twitter_samples')\n",
        "pos_tweet = twitter_samples.strings('positive_tweets.json')\n",
        "neg_tweet = twitter_samples.strings('negative_tweets.json')"
      ],
      "metadata": {
        "colab": {
          "base_uri": "https://localhost:8080/"
        },
        "id": "9SP5tDPDyOvx",
        "outputId": "239cfc2b-b86f-4b06-eb8d-38e381768472"
      },
      "execution_count": null,
      "outputs": [
        {
          "output_type": "stream",
          "name": "stderr",
          "text": [
            "[nltk_data] Downloading package twitter_samples to /root/nltk_data...\n",
            "[nltk_data]   Unzipping corpora/twitter_samples.zip.\n"
          ]
        }
      ]
    },
    {
      "cell_type": "code",
      "source": [
        "pos_tweet[:5]"
      ],
      "metadata": {
        "colab": {
          "base_uri": "https://localhost:8080/"
        },
        "id": "mTb1k7kAyQLj",
        "outputId": "b2ae8aa6-59d8-4565-d49a-b39d1dfbf593"
      },
      "execution_count": null,
      "outputs": [
        {
          "output_type": "execute_result",
          "data": {
            "text/plain": [
              "['#FollowFriday @France_Inte @PKuchly57 @Milipol_Paris for being top engaged members in my community this week :)',\n",
              " '@Lamb2ja Hey James! How odd :/ Please call our Contact Centre on 02392441234 and we will be able to assist you :) Many thanks!',\n",
              " '@DespiteOfficial we had a listen last night :) As You Bleed is an amazing track. When are you in Scotland?!',\n",
              " '@97sides CONGRATS :)',\n",
              " 'yeaaaah yippppy!!!  my accnt verified rqst has succeed got a blue tick mark on my fb profile :) in 15 days']"
            ]
          },
          "metadata": {},
          "execution_count": 11
        }
      ]
    },
    {
      "cell_type": "code",
      "source": [
        "import pandas as pd\n",
        "import numpy as np\n",
        "labels = np.append(np.ones(len(pos_tweet[:100])),np.zeros(len(neg_tweet[:100])))"
      ],
      "metadata": {
        "id": "u4lig3rlySBz"
      },
      "execution_count": null,
      "outputs": []
    },
    {
      "cell_type": "code",
      "source": [
        "tweet = pos_tweet[:100] + neg_tweet[:100]"
      ],
      "metadata": {
        "id": "M4dWTzKkyTvI"
      },
      "execution_count": null,
      "outputs": []
    },
    {
      "cell_type": "code",
      "source": [
        "freq = build_freqs(tweet,labels)\n",
        "freq"
      ],
      "metadata": {
        "id": "xTvgKHadyWUK"
      },
      "execution_count": null,
      "outputs": []
    },
    {
      "cell_type": "code",
      "source": [
        "vocab = {}\n",
        "n_pos = 0\n",
        "n_neg = 0\n",
        "count_pos = 0\n",
        "count_neg = 0\n",
        "for key, val in freq:\n",
        "  vocab[key] = 1\n",
        "  if val == 0:\n",
        "    n_neg += freq[(key,val)]\n",
        "  else:\n",
        "    n_pos += freq[(key,val)]\n",
        "\n",
        "for x in labels:\n",
        "  if x == 0:\n",
        "    count_neg += 1\n",
        "  else:\n",
        "    count_pos += 1\n",
        "\n",
        "vocabulary = len(vocab)\n",
        "n_pos, n_neg, count_pos, count_neg, vocabulary"
      ],
      "metadata": {
        "colab": {
          "base_uri": "https://localhost:8080/"
        },
        "id": "8W5avjAyyy7v",
        "outputId": "6272e51e-6bdb-47f4-b692-d09aae18b12c"
      },
      "execution_count": null,
      "outputs": [
        {
          "output_type": "execute_result",
          "data": {
            "text/plain": [
              "(672, 589, 100, 100, 667)"
            ]
          },
          "metadata": {},
          "execution_count": 19
        }
      ]
    },
    {
      "cell_type": "code",
      "source": [
        "Test = neg_tweet[105]"
      ],
      "metadata": {
        "id": "QtxDu2gLzdeN"
      },
      "execution_count": null,
      "outputs": []
    },
    {
      "cell_type": "code",
      "source": [
        "Prob_pos = count_pos/len(label)\n",
        "Prob_neg = count_neg/len(label)\n",
        "\n",
        "testing = process_tweet(Test)\n",
        "testing\n",
        "\n",
        "for x in testing:\n",
        "  Prob_pos = Prob_pos*((1+freq.get((x,1),0))/(n_pos+vocabulary))\n",
        "  Prob_neg = Prob_neg*((1+freq.get((x,0),0))/(n_neg+vocabulary))\n",
        "  print(Prob_pos,Prob_neg)\n",
        "\n",
        "print(\"\")\n",
        "if Prob_pos > Prob_neg:\n",
        "  print(f'\"{Test}\" :is a Positive sentance')\n",
        "else:\n",
        "  print(f'\"{Test}\" :is a negative sentance')"
      ],
      "metadata": {
        "colab": {
          "base_uri": "https://localhost:8080/"
        },
        "id": "8Ai3I4sRzKc1",
        "outputId": "105f8135-3191-4c48-ab1f-3adf82b9f081"
      },
      "execution_count": null,
      "outputs": [
        {
          "output_type": "stream",
          "name": "stdout",
          "text": [
            "0.014936519790888725 0.01592356687898089\n",
            "1.1154981173180527e-05 0.001026917927704978\n",
            "2.4992489559030304e-08 8.176098150517341e-07\n",
            "7.466016298440718e-11 6.509632285443743e-10\n",
            "1.6727445030113633e-13 1.0365656505483668e-12\n",
            "1.2492490687164776e-16 2.4758733691441884e-15\n",
            "9.329716719316488e-20 3.942473517745523e-18\n",
            "\n",
            "\"@subharrie ohh no :(( and yeah i hope she comes back soon too\" :is a negative sentance\n"
          ]
        }
      ]
    },
    {
      "cell_type": "code",
      "source": [],
      "metadata": {
        "id": "01pzhThhzh4_"
      },
      "execution_count": null,
      "outputs": []
    }
  ]
}