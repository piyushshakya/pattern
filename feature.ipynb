{
  "nbformat": 4,
  "nbformat_minor": 0,
  "metadata": {
    "colab": {
      "provenance": []
    },
    "kernelspec": {
      "name": "python3",
      "display_name": "Python 3"
    },
    "language_info": {
      "name": "python"
    }
  },
  "cells": [
    {
      "cell_type": "code",
      "source": [
        "filename = './mutlifeature.csv'"
      ],
      "metadata": {
        "id": "KRdYd3DufzHA"
      },
      "execution_count": null,
      "outputs": []
    },
    {
      "cell_type": "code",
      "source": [
        "def load_csv(filename):\n",
        "    dataset = list()\n",
        "    with open(filename, 'r') as file:\n",
        "        csv_reader = reader(file)\n",
        "        for row in csv_reader:\n",
        "            if not row:\n",
        "                continue\n",
        "            dataset.append(row)\n",
        "    return dataset"
      ],
      "metadata": {
        "id": "OItGjpFdf4DJ"
      },
      "execution_count": null,
      "outputs": []
    },
    {
      "cell_type": "code",
      "source": [
        "from csv import reader\n",
        "dataset = load_csv(filename)\n",
        "dataset"
      ],
      "metadata": {
        "colab": {
          "base_uri": "https://localhost:8080/"
        },
        "id": "vAE6SjUMf67l",
        "outputId": "264ce49a-1fb0-4963-ccde-6e5d92c81144"
      },
      "execution_count": null,
      "outputs": [
        {
          "output_type": "execute_result",
          "data": {
            "text/plain": [
              "[['Y', 'N', 'mild', 'Y', 'N'],\n",
              " ['Y', 'Y', 'no', 'N', 'Y'],\n",
              " ['Y', 'N', 'strong', 'Y', 'Y'],\n",
              " ['N', 'Y', 'mild', 'Y', 'Y'],\n",
              " ['N', 'N', 'no', 'N', 'N'],\n",
              " ['N', 'Y', 'strong', 'Y', 'Y'],\n",
              " ['N', 'Y', 'strong', 'N', 'N'],\n",
              " ['Y', 'Y', 'mild', 'Y', 'Y']]"
            ]
          },
          "metadata": {},
          "execution_count": 3
        }
      ]
    },
    {
      "cell_type": "code",
      "source": [
        "def str_column_to_int(dataset, column):\n",
        "    class_values = [row[column] for row in dataset]\n",
        "    unique = set(class_values)\n",
        "    lookup = dict()\n",
        "    for i, value in enumerate(unique):\n",
        "        lookup[value] = i\n",
        "        print('[%s] => %d' % (value, i))\n",
        "    for row in dataset:\n",
        "        row[column] = lookup[row[column]]\n",
        "    print(f'{lookup} - lookup')\n",
        "    return lookup"
      ],
      "metadata": {
        "id": "_aaTO0k3f9m3"
      },
      "execution_count": null,
      "outputs": []
    },
    {
      "cell_type": "code",
      "source": [
        "str_column_to_int(dataset, len(dataset[0]) - 1)\n",
        "\n",
        "print(dataset[:4])\n",
        "print(dataset[4:])"
      ],
      "metadata": {
        "colab": {
          "base_uri": "https://localhost:8080/"
        },
        "id": "QCGUx20_gAxF",
        "outputId": "c5e287a7-c32d-4c19-ef34-01a0a6de9c0d"
      },
      "execution_count": null,
      "outputs": [
        {
          "output_type": "stream",
          "name": "stdout",
          "text": [
            "[0] => 0\n",
            "[1] => 1\n",
            "{0: 0, 1: 1} - lookup\n",
            "[['Y', 'N', 'mild', 'Y', 0], ['Y', 'Y', 'no', 'N', 1], ['Y', 'N', 'strong', 'Y', 1], ['N', 'Y', 'mild', 'Y', 1]]\n",
            "[['N', 'N', 'no', 'N', 0], ['N', 'Y', 'strong', 'Y', 1], ['N', 'Y', 'strong', 'N', 0], ['Y', 'Y', 'mild', 'Y', 1]]\n"
          ]
        }
      ]
    },
    {
      "cell_type": "code",
      "source": [
        "featureLen = len(dataset[0])-1"
      ],
      "metadata": {
        "id": "OMOvElnygDcI"
      },
      "execution_count": null,
      "outputs": []
    },
    {
      "cell_type": "code",
      "source": [
        "import pandas as pd\n",
        "\n",
        "df = pd.DataFrame(dataset)\n",
        "\n",
        "classcol = df.iloc[:,-1:]\n",
        "\n",
        "print(classcol)"
      ],
      "metadata": {
        "colab": {
          "base_uri": "https://localhost:8080/"
        },
        "id": "f-8XEelzgF5W",
        "outputId": "66cc6e9c-fdac-433c-ac2e-a8e862a56e89"
      },
      "execution_count": null,
      "outputs": [
        {
          "output_type": "stream",
          "name": "stdout",
          "text": [
            "   4\n",
            "0  0\n",
            "1  1\n",
            "2  1\n",
            "3  1\n",
            "4  0\n",
            "5  1\n",
            "6  0\n",
            "7  1\n"
          ]
        }
      ]
    },
    {
      "cell_type": "code",
      "source": [
        "classification = classcol.value_counts()\n",
        "print(classification)\n",
        "\n",
        "totalclasses = len(classcol)\n",
        "print(totalclasses)"
      ],
      "metadata": {
        "colab": {
          "base_uri": "https://localhost:8080/"
        },
        "id": "cNfGt97cgLV2",
        "outputId": "7df5f6fd-c70e-4fb9-866b-6a23ed5fefed"
      },
      "execution_count": null,
      "outputs": [
        {
          "output_type": "stream",
          "name": "stdout",
          "text": [
            "4\n",
            "1    5\n",
            "0    3\n",
            "dtype: int64\n",
            "8\n"
          ]
        }
      ]
    },
    {
      "cell_type": "code",
      "source": [
        "Dict={}\n",
        "\n",
        "for i in classcol:\n",
        "    print(i)\n",
        "\n",
        "for i in range(len(classcol)):\n",
        "    Dict[classcol.loc[i,len(dataset[0])-1]] = Dict.get(classcol.loc[i,len(dataset[0])-1], 0) + 1\n",
        "\n",
        "print(Dict)"
      ],
      "metadata": {
        "colab": {
          "base_uri": "https://localhost:8080/"
        },
        "id": "MdejI5PIgQz7",
        "outputId": "1de73baa-f924-43f2-fcd0-6bc775aa5cf1"
      },
      "execution_count": null,
      "outputs": [
        {
          "output_type": "stream",
          "name": "stdout",
          "text": [
            "4\n",
            "{0: 3, 1: 5}\n"
          ]
        }
      ]
    },
    {
      "cell_type": "code",
      "source": [
        "for key, val in Dict.items():\n",
        "    print(key, \":\", val)\n",
        "\n",
        "for key, val in Dict.items():\n",
        "    Dict[key] = (Dict[key]/totalclasses)\n",
        "\n",
        "for key, val in Dict.items():\n",
        "    print(key, \":\", val)"
      ],
      "metadata": {
        "colab": {
          "base_uri": "https://localhost:8080/"
        },
        "id": "2L8fbjTggUjo",
        "outputId": "4b80205a-6c77-4dca-d4a6-635c680da3dd"
      },
      "execution_count": null,
      "outputs": [
        {
          "output_type": "stream",
          "name": "stdout",
          "text": [
            "0 : 3\n",
            "1 : 5\n",
            "0 : 0.375\n",
            "1 : 0.625\n"
          ]
        }
      ]
    },
    {
      "cell_type": "code",
      "source": [
        "featureDict = {}"
      ],
      "metadata": {
        "id": "JomT3mRCgXAD"
      },
      "execution_count": null,
      "outputs": []
    },
    {
      "cell_type": "code",
      "source": [
        "for i in range(len(dataset)):\n",
        "    for j in range(featureLen):\n",
        "        if j+1 not in featureDict:\n",
        "            featureDict[j+1] = {}\n",
        "        if dataset[i][-1] not in featureDict[j+1]:\n",
        "                featureDict[j+1][dataset[i][-1]] = list()\n",
        "        featureDict[j+1][dataset[i][-1]].append(dataset[i][j])\n",
        "        # print(dataset[i][j])\n",
        "\n",
        "print(featureDict)"
      ],
      "metadata": {
        "colab": {
          "base_uri": "https://localhost:8080/"
        },
        "id": "MeyVJKl9gZCt",
        "outputId": "257041b2-4fe7-4511-b48c-761c2c749b32"
      },
      "execution_count": null,
      "outputs": [
        {
          "output_type": "stream",
          "name": "stdout",
          "text": [
            "{1: {0: ['Y', 'N', 'N'], 1: ['Y', 'Y', 'N', 'N', 'Y']}, 2: {0: ['N', 'N', 'Y'], 1: ['Y', 'N', 'Y', 'Y', 'Y']}, 3: {0: ['mild', 'no', 'strong'], 1: ['no', 'strong', 'mild', 'strong', 'mild']}, 4: {0: ['Y', 'N', 'N'], 1: ['N', 'Y', 'Y', 'Y', 'Y']}}\n"
          ]
        }
      ]
    },
    {
      "cell_type": "code",
      "source": [
        "print(\"Enter test data vector\")\n",
        "\n",
        "print(featureLen)\n",
        "\n",
        "test = []\n",
        "for i in range(featureLen):\n",
        "    val = input(f\"Enter {i+1} feature: \")\n",
        "    test.append(val)\n",
        "\n",
        "print(test)\n",
        "\n",
        "# Y Y strong Y"
      ],
      "metadata": {
        "colab": {
          "base_uri": "https://localhost:8080/"
        },
        "id": "R4B8F5zZgeXU",
        "outputId": "c49122b1-57f0-4d61-8f3f-86f7154dddff"
      },
      "execution_count": null,
      "outputs": [
        {
          "output_type": "stream",
          "name": "stdout",
          "text": [
            "Enter test data vector\n",
            "4\n",
            "Enter 1 feature: Y\n",
            "Enter 2 feature: Y\n",
            "Enter 3 feature: strong\n",
            "Enter 4 feature: Y\n",
            "['Y', 'Y', 'strong', 'Y']\n"
          ]
        }
      ]
    },
    {
      "cell_type": "code",
      "source": [
        "decisionClass = ' '\n",
        "maxProb = 0\n",
        "\n",
        "for className, classProb in Dict.items():\n",
        "    netProb = classProb\n",
        "    print(netProb)\n",
        "    for j in range(featureLen):\n",
        "        currFeatureList = featureDict[j+1][className]\n",
        "        count = 0\n",
        "        for featureValue in currFeatureList:\n",
        "            if test[j] == featureValue:\n",
        "                count+=1\n",
        "        featureProb = count/len(currFeatureList)\n",
        "        netProb*=featureProb\n",
        "    if netProb > maxProb:\n",
        "        maxProb = netProb\n",
        "        decisionClass = className\n",
        "    print(className)\n",
        "    print(netProb)"
      ],
      "metadata": {
        "colab": {
          "base_uri": "https://localhost:8080/"
        },
        "id": "-5PM8-R1ghnj",
        "outputId": "c939aef9-84e2-4321-9a8b-d1dc088b0a39"
      },
      "execution_count": null,
      "outputs": [
        {
          "output_type": "stream",
          "name": "stdout",
          "text": [
            "0.375\n",
            "0\n",
            "0.004629629629629629\n",
            "0.625\n",
            "1\n",
            "0.09600000000000003\n"
          ]
        }
      ]
    },
    {
      "cell_type": "code",
      "execution_count": null,
      "metadata": {
        "colab": {
          "base_uri": "https://localhost:8080/"
        },
        "id": "u7ek7rXJfwdR",
        "outputId": "73b47395-ca81-427f-a56c-55bf2dcdcc2e"
      },
      "outputs": [
        {
          "output_type": "stream",
          "name": "stdout",
          "text": [
            "1\n",
            "0.09600000000000003\n"
          ]
        }
      ],
      "source": [
        "print(decisionClass)\n",
        "print(maxProb)"
      ]
    },
    {
      "cell_type": "code",
      "source": [],
      "metadata": {
        "id": "1bM0xfivobAD"
      },
      "execution_count": null,
      "outputs": []
    }
  ]
}