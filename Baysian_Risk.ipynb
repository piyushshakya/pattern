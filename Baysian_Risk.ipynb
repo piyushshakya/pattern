{
  "nbformat": 4,
  "nbformat_minor": 0,
  "metadata": {
    "colab": {
      "provenance": []
    },
    "kernelspec": {
      "name": "python3",
      "display_name": "Python 3"
    },
    "language_info": {
      "name": "python"
    }
  },
  "cells": [
    {
      "cell_type": "markdown",
      "source": [
        "# Bayesian Risk"
      ],
      "metadata": {
        "id": "ugw7gDSzWaIF"
      }
    },
    {
      "cell_type": "code",
      "source": [
        "import pandas as pd\n",
        "import seaborn as sns"
      ],
      "metadata": {
        "id": "nvqkZ8M6YLyJ"
      },
      "execution_count": null,
      "outputs": []
    },
    {
      "cell_type": "code",
      "source": [
        "p_w1 = int(input(\"Enter a priori percentage of covid patients : \"))/100\n",
        "p_w2 = int(input(\"Enter a priori percentage of non covid patients : \"))/100\n",
        "\n",
        "# 20, 80"
      ],
      "metadata": {
        "colab": {
          "base_uri": "https://localhost:8080/"
        },
        "id": "7Ryd9hF-Thf4",
        "outputId": "dd99f8fb-12aa-41f9-d068-21d4a2f90acb"
      },
      "execution_count": null,
      "outputs": [
        {
          "name": "stdout",
          "output_type": "stream",
          "text": [
            "Enter a priori percentage of covid patients : 20\n",
            "Enter a priori percentage of non covid patients : 80\n"
          ]
        }
      ]
    },
    {
      "cell_type": "code",
      "source": [
        "a1 = \"medication\"\n",
        "a2 = \"non-medication\""
      ],
      "metadata": {
        "id": "zV5MXYDeUBPh"
      },
      "execution_count": null,
      "outputs": []
    },
    {
      "cell_type": "code",
      "source": [
        "print(\"For action alpha1 i.e. medication\")\n",
        "lossMatrix_11 = int(input(\"Enter loss value for w1 i.e. Covid : \"))\n",
        "lossMatrix_12 = int(input(\"Enter loss value for w2 i.e. Non-Covid : \"))\n",
        "\n",
        "print(\"\")\n",
        "\n",
        "print(\"For action alpha2 i.e. non-medication\")\n",
        "lossMatrix_21 = int(input(\"Enter loss value for w1 i.e. Covid : \"))\n",
        "lossMatrix_22 = int(input(\"Enter loss value for w2 i.e. Non-Covid :\"))\n",
        "\n",
        "# 0, 15, 30, 0"
      ],
      "metadata": {
        "colab": {
          "base_uri": "https://localhost:8080/"
        },
        "id": "PtPCOzQNUKUS",
        "outputId": "e593c327-ae7f-4899-e5e5-5c9b010aa89a"
      },
      "execution_count": null,
      "outputs": [
        {
          "name": "stdout",
          "output_type": "stream",
          "text": [
            "For action alpha1 i.e. medication\n",
            "Enter loss value for w1 i.e. Covid : 0\n",
            "Enter loss value for w2 i.e. Non-Covid : 15\n",
            "\n",
            "For action alpha2 i.e. non-medication\n",
            "Enter loss value for w1 i.e. Covid : 30\n",
            "Enter loss value for w2 i.e. Non-Covid :0\n"
          ]
        }
      ]
    },
    {
      "cell_type": "code",
      "source": [
        "data = [[lossMatrix_11,lossMatrix_12],[lossMatrix_21,lossMatrix_22]]\n",
        "df = pd.DataFrame(data,columns=['Covid','Non-covid'])\n",
        "sns.heatmap(df,annot=True)"
      ],
      "metadata": {
        "colab": {
          "base_uri": "https://localhost:8080/",
          "height": 286
        },
        "id": "WXP79xBrYD0v",
        "outputId": "c500696a-b2f5-465a-d7e5-9c0794cacdd0"
      },
      "execution_count": null,
      "outputs": [
        {
          "output_type": "execute_result",
          "data": {
            "text/plain": [
              "<matplotlib.axes._subplots.AxesSubplot at 0x7ffa1aa94490>"
            ]
          },
          "metadata": {},
          "execution_count": 35
        },
        {
          "output_type": "display_data",
          "data": {
            "text/plain": [
              "<Figure size 432x288 with 2 Axes>"
            ],
            "image/png": "[encoded data removed]"
          },
          "metadata": {
            "needs_background": "light"
          }
        }
      ]
    },
    {
      "cell_type": "code",
      "source": [
        "R_a1 = (lossMatrix_11 * p_w1) + (lossMatrix_12 * p_w2)\n",
        "R_a2 = (lossMatrix_21 * p_w1) + (lossMatrix_22 * p_w2)\n",
        "\n",
        "print(\"\")\n",
        "print(\"Risk of\",a1,\" = \",R_a1)\n",
        "print(\"Risk of\",a2,\" = \",R_a2)\n",
        "print(\"\")\n",
        "\n",
        "if(R_a1 < R_a2):\n",
        "    print(a1, \"is optimal requirement for a patient visiting\")\n",
        "else:\n",
        "    print(a2, \"is optimal requirement for a patient visiting\")"
      ],
      "metadata": {
        "colab": {
          "base_uri": "https://localhost:8080/"
        },
        "id": "6ZGfzMGDUdFY",
        "outputId": "bb43deee-d082-427e-9af3-e713b324a9c3"
      },
      "execution_count": null,
      "outputs": [
        {
          "output_type": "stream",
          "name": "stdout",
          "text": [
            "\n",
            "Risk of medication  =  12.0\n",
            "Risk of non-medication  =  6.0\n",
            "\n",
            "non-medication is optimal requirement for a patient visiting\n"
          ]
        }
      ]
    },
    {
      "cell_type": "code",
      "source": [
        "print(\"For blood test sample +ve i.e. x1\")\n",
        "\n",
        "p_x1_by_w1 = int(input(\"Enter percentage value for w1 i.e. Covid : \"))/100\n",
        "p_x1_by_w2 = int(input(\"Enter percentage value for w2 i.e. Non-Covid : \"))/100\n",
        "\n",
        "print(\"\")\n",
        "\n",
        "print(\"For blood test sample -ve i.e. x2\")\n",
        "p_x2_by_w1 = int(input(\"Enter percentage value for w1 i.e. Covid : \"))/100\n",
        "p_x2_by_w2 = int(input(\"Enter percentage value for w2 i.e. Non-Covid :\"))/100\n",
        "\n",
        "# 90, 10, 10, 90"
      ],
      "metadata": {
        "colab": {
          "base_uri": "https://localhost:8080/"
        },
        "id": "wbLu3oKCV2Hn",
        "outputId": "980fd9da-76d5-49fb-8810-27d3170cec01"
      },
      "execution_count": null,
      "outputs": [
        {
          "name": "stdout",
          "output_type": "stream",
          "text": [
            "For blood test sample +ve i.e. x1\n",
            "Enter percentage value for w1 i.e. Covid : 90\n",
            "Enter percentage value for w2 i.e. Non-Covid : 10\n",
            "\n",
            "For blood test sample -ve i.e. x2\n",
            "Enter percentage value for w1 i.e. Covid : 10\n",
            "Enter percentage value for w2 i.e. Non-Covid :90\n"
          ]
        }
      ]
    },
    {
      "cell_type": "code",
      "source": [
        "data = [[p_x1_by_w1,p_x1_by_w2],[p_x2_by_w1,p_x2_by_w2]]\n",
        "df = pd.DataFrame(data,columns=['Covid','Non-covid'])\n",
        "sns.heatmap(df,annot=True)"
      ],
      "metadata": {
        "colab": {
          "base_uri": "https://localhost:8080/",
          "height": 286
        },
        "id": "duHNvBxrZpI3",
        "outputId": "de1c2b3a-c07a-4f8c-aac8-4aa9d56cad21"
      },
      "execution_count": null,
      "outputs": [
        {
          "output_type": "execute_result",
          "data": {
            "text/plain": [
              "<matplotlib.axes._subplots.AxesSubplot at 0x7ffa1a9cd150>"
            ]
          },
          "metadata": {},
          "execution_count": 36
        },
        {
          "output_type": "display_data",
          "data": {
            "text/plain": [
              "<Figure size 432x288 with 2 Axes>"
            ],
            "image/png": "[encoded data removed]"
          },
          "metadata": {
            "needs_background": "light"
          }
        }
      ]
    },
    {
      "cell_type": "code",
      "source": [
        "R_a1_by_x1 = lossMatrix_11 * (p_x1_by_w1 * p_w1) + lossMatrix_12 * (p_x1_by_w2 * p_w2)\n",
        "R_a2_by_x1 = lossMatrix_21 * (p_x1_by_w1 * p_w1) + lossMatrix_22 * (p_x1_by_w2 * p_w2)\n",
        "\n",
        "print(\"Risk of\",a1,\" by patient x1 = \",round(R_a1_by_x1,2))\n",
        "print(\"Risk of\",a2,\" by patient x1 = \",round(R_a2_by_x1,2))\n",
        "\n",
        "x1_optimal_action = \"\"\n",
        "if(R_a1_by_x1 < R_a2_by_x1):\n",
        "    x1_optimal_action = a1\n",
        "else:\n",
        "    x1_optimal_action = a2\n",
        "\n",
        "print(\"For patient x1 (+ve blood test sample), optimal action = \", x1_optimal_action)"
      ],
      "metadata": {
        "colab": {
          "base_uri": "https://localhost:8080/"
        },
        "id": "v2dQRGEfWGMh",
        "outputId": "4c0482bc-85eb-43c0-833a-08efdc1a8acc"
      },
      "execution_count": null,
      "outputs": [
        {
          "output_type": "stream",
          "name": "stdout",
          "text": [
            "Risk of medication  by patient x1 =  1.2\n",
            "Risk of non-medication  by patient x1 =  5.4\n",
            "For patient x1 (+ve blood test sample), optimal action =  medication\n"
          ]
        }
      ]
    },
    {
      "cell_type": "code",
      "source": [
        "R_a1_by_x2 = lossMatrix_11 * (p_x2_by_w1 * p_w1) + lossMatrix_12 * (p_x2_by_w2 * p_w2)\n",
        "R_a2_by_x2 = lossMatrix_21 * (p_x2_by_w1 * p_w1) + lossMatrix_22 * (p_x2_by_w2 * p_w2)\n",
        "\n",
        "print(\"Risk of\",a1,\" by patient x2 = \",round(R_a1_by_x2,2))\n",
        "print(\"Risk of\",a2,\" by patient x2 = \",round(R_a2_by_x2,2))\n",
        "\n",
        "x2_optimal_action = \"\"\n",
        "if(R_a1_by_x2 < R_a2_by_x2):\n",
        "    x2_optimal_action = a1\n",
        "else:\n",
        "    x2_optimal_action = a2\n",
        "\n",
        "print(\"For patient x2 (-ve blood test sample), optimal action = \", x2_optimal_action)"
      ],
      "metadata": {
        "colab": {
          "base_uri": "https://localhost:8080/"
        },
        "id": "2jhUJ21WWHoq",
        "outputId": "ce16aac0-b96d-494b-bbdd-31cbdc00f991"
      },
      "execution_count": null,
      "outputs": [
        {
          "output_type": "stream",
          "name": "stdout",
          "text": [
            "Risk of medication  by patient x2 =  10.8\n",
            "Risk of non-medication  by patient x2 =  0.6\n",
            "For patient x2 (-ve blood test sample), optimal action =  non-medication\n"
          ]
        }
      ]
    },
    {
      "cell_type": "code",
      "source": [],
      "metadata": {
        "id": "IlksSj0MUcSK"
      },
      "execution_count": null,
      "outputs": []
    }
  ]
}