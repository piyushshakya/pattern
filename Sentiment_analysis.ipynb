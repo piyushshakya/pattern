{
  "nbformat": 4,
  "nbformat_minor": 0,
  "metadata": {
    "colab": {
      "provenance": []
    },
    "kernelspec": {
      "name": "python3",
      "display_name": "Python 3"
    },
    "language_info": {
      "name": "python"
    }
  },
  "cells": [
    {
      "cell_type": "code",
      "execution_count": null,
      "metadata": {
        "colab": {
          "base_uri": "https://localhost:8080/"
        },
        "id": "5Kj7BPYfKmkB",
        "outputId": "9f09d317-d7a7-4e6b-bad9-cf69c4510e3c"
      },
      "outputs": [
        {
          "output_type": "stream",
          "name": "stderr",
          "text": [
            "[nltk_data] Downloading package stopwords to /root/nltk_data...\n",
            "[nltk_data]   Unzipping corpora/stopwords.zip.\n"
          ]
        }
      ],
      "source": [
        "import re\n",
        "import string\n",
        "\n",
        "import nltk\n",
        "from nltk.corpus import stopwords\n",
        "from nltk.stem import PorterStemmer\n",
        "from nltk.tokenize import TweetTokenizer\n",
        "import pandas as pd\n",
        "import numpy as np\n",
        "nltk.download('stopwords')\n",
        "\n",
        "def process_tweet(tweet):\n",
        "    stemmer = PorterStemmer()\n",
        "    stopwords_english = stopwords.words('english')\n",
        "    tweet = re.sub(r'\\$\\w*', '', tweet)\n",
        "    tweet = re.sub(r'^RT[\\s]+', '', tweet)\n",
        "    tweet = re.sub(r'https?:\\/\\/.*[\\r\\n]*', '', tweet)\n",
        "    tweet = re.sub(r'#', '', tweet)\n",
        "    tokenizer = TweetTokenizer(preserve_case=False, strip_handles=True,reduce_len=True)\n",
        "    tweet_tokens = tokenizer.tokenize(tweet)\n",
        "\n",
        "    tweets_clean = []\n",
        "    for word in tweet_tokens:\n",
        "        if (word not in stopwords_english and word not in string.punctuation):\n",
        "            stem_word = stemmer.stem(word)\n",
        "            tweets_clean.append(stem_word)\n",
        "    return tweets_clean\n",
        "\n",
        "def appears(tweets, ys):\n",
        "    yslist = np.squeeze(ys).tolist()\n",
        "    freqs = {}\n",
        "    for y, tweet in zip(yslist, tweets):\n",
        "        for word in process_tweet(tweet):\n",
        "            pair = (word, y)\n",
        "            freqs[pair] = freqs.get(pair, 0) + 1  \n",
        "    return freqs"
      ]
    },
    {
      "cell_type": "code",
      "source": [
        "process_tweet('hello, How are you Buddy!')"
      ],
      "metadata": {
        "colab": {
          "base_uri": "https://localhost:8080/"
        },
        "id": "Ds_KB5tsK0fl",
        "outputId": "46199494-3337-43f1-b547-be5f7fb3a749"
      },
      "execution_count": null,
      "outputs": [
        {
          "output_type": "execute_result",
          "data": {
            "text/plain": [
              "['hello', 'buddi']"
            ]
          },
          "metadata": {},
          "execution_count": 2
        }
      ]
    },
    {
      "cell_type": "code",
      "source": [
        "data = ['I love the Movie','I hated the movie','A great movie, a good movie','Poor Acting','Great Acting, a good movie']\n",
        "label = [1,0,1,0,1]"
      ],
      "metadata": {
        "id": "As2E7Tl1K3Ln"
      },
      "execution_count": null,
      "outputs": []
    },
    {
      "cell_type": "code",
      "source": [
        "freq = appears(data,label)\n",
        "freq"
      ],
      "metadata": {
        "colab": {
          "base_uri": "https://localhost:8080/"
        },
        "id": "OKKv0l93K8g9",
        "outputId": "cc354483-7558-4295-c98c-fae5923112ec"
      },
      "execution_count": null,
      "outputs": [
        {
          "output_type": "execute_result",
          "data": {
            "text/plain": [
              "{('love', 1): 1,\n",
              " ('movi', 1): 4,\n",
              " ('hate', 0): 1,\n",
              " ('movi', 0): 1,\n",
              " ('great', 1): 2,\n",
              " ('good', 1): 2,\n",
              " ('poor', 0): 1,\n",
              " ('act', 0): 1,\n",
              " ('act', 1): 1}"
            ]
          },
          "metadata": {},
          "execution_count": 4
        }
      ]
    },
    {
      "cell_type": "code",
      "source": [
        "vocab = {}\n",
        "totpos = 0\n",
        "totneg = 0\n",
        "numpos = 0\n",
        "numneg = 0\n",
        "for key, val in freq:\n",
        "  vocab[key] = 1\n",
        "  if val == 0:\n",
        "    totneg += freq[(key,val)]\n",
        "  else:\n",
        "    totpos += freq[(key,val)]\n",
        "\n",
        "for x in label:\n",
        "  if x == 0:\n",
        "    numneg += 1\n",
        "  else:\n",
        "    numpos += 1\n",
        "\n",
        "vocabulary = len(vocab)\n",
        "totpos, totneg, numpos, numneg, vocabulary"
      ],
      "metadata": {
        "colab": {
          "base_uri": "https://localhost:8080/"
        },
        "id": "rtGjhfwqLBl0",
        "outputId": "0e002468-4854-4775-ffd0-bbb11e2cc54d"
      },
      "execution_count": null,
      "outputs": [
        {
          "output_type": "execute_result",
          "data": {
            "text/plain": [
              "(10, 4, 3, 2, 7)"
            ]
          },
          "metadata": {},
          "execution_count": 5
        }
      ]
    },
    {
      "cell_type": "code",
      "source": [
        "Test = 'A movie'"
      ],
      "metadata": {
        "id": "qHGFaLsqLF0d"
      },
      "execution_count": null,
      "outputs": []
    },
    {
      "cell_type": "code",
      "source": [
        "Prob_pos = numpos/len(label)\n",
        "Prob_neg = numneg/len(label)\n",
        "\n",
        "testing = process_tweet(Test)\n",
        "testing\n",
        "\n",
        "for x in testing:\n",
        "  Prob_pos = Prob_pos*((1+freq.get((x,1),0))/(totpos+vocabulary))\n",
        "  Prob_neg = Prob_neg*((1+freq.get((x,0),0))/(totneg+vocabulary))\n",
        "  print(Prob_pos,Prob_neg)\n",
        "\n",
        "print(\"\")\n",
        "if Prob_pos > Prob_neg:\n",
        "  print(f'\"{Test}\" :is a Positive sentence')\n",
        "else:\n",
        "  print(f'\"{Test}\" :is a negative sentence')"
      ],
      "metadata": {
        "colab": {
          "base_uri": "https://localhost:8080/"
        },
        "id": "HFe9wHflLH3U",
        "outputId": "72e91b11-4ec4-4d3e-b3cd-4bb10a2835be"
      },
      "execution_count": null,
      "outputs": [
        {
          "output_type": "stream",
          "name": "stdout",
          "text": [
            "0.17647058823529413 0.07272727272727274\n",
            "\n",
            "\"A movie\" :is a Positive sentence\n"
          ]
        }
      ]
    }
  ]
}